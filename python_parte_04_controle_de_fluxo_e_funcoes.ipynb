{
 "cells": [
  {
   "cell_type": "markdown",
   "metadata": {},
   "source": [
    "<h3>Condicionais e repetição</h3>"
   ]
  },
  {
   "cell_type": "markdown",
   "metadata": {},
   "source": [
    "Até agora vimos basicamente vários objetos em Python, algumas buil-in functions e fatiamento de iteráveis."
   ]
  },
  {
   "cell_type": "markdown",
   "metadata": {},
   "source": [
    "<h3>Condicionais</h3>"
   ]
  },
  {
   "cell_type": "markdown",
   "metadata": {},
   "source": [
    "Condicionais servem para controlar o fluxo do programa. Em outras palavras, partes do código só serão executadas se determinada condição, de valor booleano, for verdadeira. Vejamos um exemplo."
   ]
  },
  {
   "cell_type": "code",
   "execution_count": 5,
   "metadata": {},
   "outputs": [
    {
     "name": "stdout",
     "output_type": "stream",
     "text": [
      "Hello!\n"
     ]
    }
   ],
   "source": [
    "expression = True\n",
    "if expression:\n",
    "    print('Hello!')"
   ]
  },
  {
   "cell_type": "code",
   "execution_count": 7,
   "metadata": {},
   "outputs": [],
   "source": [
    "expression = False\n",
    "if expression:\n",
    "    print('Hello!')"
   ]
  },
  {
   "cell_type": "markdown",
   "metadata": {},
   "source": [
    "Espaços são importantes em estruturas de repetição. Os quatro espaços antes da linha 3, no código acima, são chamados de identação. Veja o exemplo:"
   ]
  },
  {
   "cell_type": "code",
   "execution_count": 10,
   "metadata": {},
   "outputs": [
    {
     "name": "stdout",
     "output_type": "stream",
     "text": [
      "Hello!\n"
     ]
    }
   ],
   "source": [
    "expression = False\n",
    "if expression:\n",
    "    print(\"Hi!\")\n",
    "print('Hello!')"
   ]
  },
  {
   "cell_type": "markdown",
   "metadata": {},
   "source": [
    "No segundo caso nada foi impresso. Podemos melhorar esse segundo caso imprimindo \"The expression is not True\" caso a <i>expression</i> seja falsa:"
   ]
  },
  {
   "cell_type": "code",
   "execution_count": 13,
   "metadata": {},
   "outputs": [
    {
     "name": "stdout",
     "output_type": "stream",
     "text": [
      "The expression is not True\n"
     ]
    }
   ],
   "source": [
    "expression = False\n",
    "if expression:\n",
    "    print('Hello!')\n",
    "else:\n",
    "    print( \"The expression is not True\")"
   ]
  },
  {
   "cell_type": "code",
   "execution_count": 15,
   "metadata": {},
   "outputs": [
    {
     "name": "stdout",
     "output_type": "stream",
     "text": [
      "Hello!\n"
     ]
    }
   ],
   "source": [
    "expression = True\n",
    "if expression:\n",
    "    print('Hello!')\n",
    "else:\n",
    "    print( \"The expression is not True\")"
   ]
  },
  {
   "cell_type": "markdown",
   "metadata": {},
   "source": [
    "Vejamos outro exemplo:"
   ]
  },
  {
   "cell_type": "code",
   "execution_count": 18,
   "metadata": {},
   "outputs": [
    {
     "name": "stdout",
     "output_type": "stream",
     "text": [
      "Adulto\n"
     ]
    }
   ],
   "source": [
    "idade = 23\n",
    "expression = (idade >= 18)\n",
    "if expression:\n",
    "    print(\"Adulto\")\n",
    "else:\n",
    "    print(\"Adolescente\")"
   ]
  },
  {
   "cell_type": "code",
   "execution_count": 20,
   "metadata": {},
   "outputs": [
    {
     "name": "stdout",
     "output_type": "stream",
     "text": [
      "Adolescente\n"
     ]
    }
   ],
   "source": [
    "idade = 16\n",
    "expression = (idade >= 18)\n",
    "if expression:\n",
    "    print(\"Adulto\")\n",
    "else:\n",
    "    print(\"Adolescente\")"
   ]
  },
  {
   "cell_type": "markdown",
   "metadata": {},
   "source": [
    "Para adicionar uma terceira condição:"
   ]
  },
  {
   "cell_type": "code",
   "execution_count": 23,
   "metadata": {},
   "outputs": [
    {
     "name": "stdout",
     "output_type": "stream",
     "text": [
      "Adolescente\n"
     ]
    }
   ],
   "source": [
    "idade = 16\n",
    "\n",
    "expression1 = (idade < 18)\n",
    "expression2 = (idade < 60)\n",
    "\n",
    "if expression1: # aqui basta expression1 ser verdadeira\n",
    "    print(\"Adolescente\")\n",
    "elif expression2: # aqui expression1 deve ser falsa e expression2 verdadeira\n",
    "    print(\"Adulto\")\n",
    "else: # aqui expression1 e expression2 devem ser falsas\n",
    "    print(\"Idoso\")"
   ]
  },
  {
   "cell_type": "code",
   "execution_count": 25,
   "metadata": {},
   "outputs": [
    {
     "name": "stdout",
     "output_type": "stream",
     "text": [
      "Adulto\n"
     ]
    }
   ],
   "source": [
    "idade = 56\n",
    "\n",
    "expression1 = (idade < 18)\n",
    "expression2 = (idade < 60)\n",
    "\n",
    "if expression1: # aqui basta expression1 ser verdadeira\n",
    "    print(\"Adolescente\")\n",
    "elif expression2: # aqui expression1 deve ser falsa e expression2 verdadeira\n",
    "    print(\"Adulto\")\n",
    "else: # aqui expression1 e expression2 devem ser falsas\n",
    "    print(\"Idoso\")"
   ]
  },
  {
   "cell_type": "code",
   "execution_count": 27,
   "metadata": {},
   "outputs": [
    {
     "name": "stdout",
     "output_type": "stream",
     "text": [
      "Idoso\n"
     ]
    }
   ],
   "source": [
    "idade = 65\n",
    "\n",
    "expression1 = (idade < 18)\n",
    "expression2 = (idade < 60)\n",
    "\n",
    "if expression1: # aqui basta expression1 ser verdadeira\n",
    "    print(\"Adolescente\")\n",
    "elif expression2: # aqui expression1 deve ser falsa e expression2 verdadeira\n",
    "    print(\"Adulto\")\n",
    "else: # aqui expression1 e expression2 devem ser falsas\n",
    "    print(\"Idoso\")"
   ]
  },
  {
   "cell_type": "markdown",
   "metadata": {},
   "source": [
    "<h3>Input, interagindo com o usuário</h3>"
   ]
  },
  {
   "cell_type": "markdown",
   "metadata": {},
   "source": [
    "É possível pegar a variável idade do usuário que está executando o código. Para isso, usa-se a built-in function <i>input</i>."
   ]
  },
  {
   "cell_type": "code",
   "execution_count": 33,
   "metadata": {},
   "outputs": [
    {
     "name": "stdin",
     "output_type": "stream",
     "text": [
      "Qual sua idade?  99\n"
     ]
    },
    {
     "name": "stdout",
     "output_type": "stream",
     "text": [
      "Idoso\n"
     ]
    }
   ],
   "source": [
    "idade = input(\"Qual sua idade? \") # pega a idade como string\n",
    "idade = int(idade) # passa idade para inteiro\n",
    "\n",
    "if idade < 18: # aqui basta expression1 ser verdadeira\n",
    "    print(\"Adolescente\")\n",
    "elif idade < 60: # aqui expression1 deve ser falsa e expression2 verdadeira\n",
    "    print(\"Adulto\")\n",
    "else: # aqui expression1 e expression2 devem ser falsas\n",
    "    print(\"Idoso\")"
   ]
  },
  {
   "cell_type": "markdown",
   "metadata": {},
   "source": [
    "<h3>Exercício:</h3>"
   ]
  },
  {
   "cell_type": "code",
   "execution_count": 55,
   "metadata": {},
   "outputs": [
    {
     "name": "stdin",
     "output_type": "stream",
     "text": [
      "Digite um número inteiro de 0 a 10: 9\n"
     ]
    },
    {
     "name": "stdout",
     "output_type": "stream",
     "text": [
      "IMPAR\n"
     ]
    }
   ],
   "source": [
    "# Peça para o usuário digita um número inteiro de 1 a 10 (ambos inclusos).\n",
    "# Guarde esse número na variável number.\n",
    "number = input(\"Digite um número inteiro de 0 a 10:\")\n",
    "number = int(number)\n",
    "\n",
    "# Imprima \"PAR\" se o número digitado for par e \"IMPAR\" caso contrário\n",
    "# Use if e else\n",
    "# Dica, use a operação % (resto da divisão)\n",
    "# TODO\n",
    "if ( number % 2 ) == 0:\n",
    "    print(\"PAR\")\n",
    "else:\n",
    "    print(\"IMPAR\")"
   ]
  },
  {
   "cell_type": "code",
   "execution_count": 63,
   "metadata": {},
   "outputs": [
    {
     "name": "stdin",
     "output_type": "stream",
     "text": [
      "Digite um número inteiro de 1 a 20: 16\n"
     ]
    },
    {
     "name": "stdout",
     "output_type": "stream",
     "text": [
      "MAIOR\n"
     ]
    }
   ],
   "source": [
    "# Você vai fazer um programa para que o usuário tente adivinhar qual número você pensou\n",
    "# você pensou no número 15\n",
    "\n",
    "# Peça para o usuário digita um número inteiro de 1 a 20 (ambos inclusos).\n",
    "# Guarde esse número na variável number.\n",
    "number = input(\"Digite um número inteiro de 1 a 20:\")\n",
    "number = int(number)\n",
    "\n",
    "# Imprima \"MENOR\" se o número digitado for menor que 15\n",
    "# Imprima \"MAIOR\" se o número for maior que 15\n",
    "# Imprima \"ACERTOU\" se o número for exatamente 15\n",
    "# Use if, elif e else\n",
    "# TODO\n",
    "if number < 15:\n",
    "    print(\"MENOR\")\n",
    "elif number > 15:\n",
    "    print(\"MAIOR\")\n",
    "elif number == 15:\n",
    "    print(\"ACERTOU\")"
   ]
  },
  {
   "cell_type": "markdown",
   "metadata": {},
   "source": [
    "<h3>Repetição (while)</h3>"
   ]
  },
  {
   "cell_type": "markdown",
   "metadata": {},
   "source": [
    "Suponha que queremos imprimir números pares de 2 até 10. Podemos proceder como abaixo:"
   ]
  },
  {
   "cell_type": "code",
   "execution_count": 67,
   "metadata": {},
   "outputs": [
    {
     "name": "stdout",
     "output_type": "stream",
     "text": [
      "2\n",
      "4\n",
      "6\n",
      "8\n",
      "10\n"
     ]
    }
   ],
   "source": [
    "print(2)\n",
    "print(4)\n",
    "print(6)\n",
    "print(8)\n",
    "print(10)"
   ]
  },
  {
   "cell_type": "markdown",
   "metadata": {},
   "source": [
    "Outra forma de fazer é usando <i>while</i>."
   ]
  },
  {
   "cell_type": "code",
   "execution_count": 70,
   "metadata": {},
   "outputs": [
    {
     "name": "stdout",
     "output_type": "stream",
     "text": [
      "2\n",
      "4\n",
      "6\n",
      "8\n",
      "10\n"
     ]
    }
   ],
   "source": [
    "number = 2 # número inicial a ser impresso\n",
    "while number < 11: # condição de parada (no caso de impressões)\n",
    "    print(number) # imprime number\n",
    "    number = number + 2 # atualiza number"
   ]
  },
  {
   "cell_type": "markdown",
   "metadata": {},
   "source": [
    "Identações são importantes em estruturas de repetição."
   ]
  },
  {
   "cell_type": "code",
   "execution_count": 75,
   "metadata": {},
   "outputs": [
    {
     "name": "stdin",
     "output_type": "stream",
     "text": [
      "Tente adivinhar qual número eu pensei, entre 1 a 20:  1\n"
     ]
    },
    {
     "name": "stdout",
     "output_type": "stream",
     "text": [
      "MENOR\n"
     ]
    },
    {
     "name": "stdin",
     "output_type": "stream",
     "text": [
      "Tente adivinhar qual número eu pensei, entre 1 a 20:  12\n"
     ]
    },
    {
     "name": "stdout",
     "output_type": "stream",
     "text": [
      "MENOR\n"
     ]
    },
    {
     "name": "stdin",
     "output_type": "stream",
     "text": [
      "Tente adivinhar qual número eu pensei, entre 1 a 20:  14\n"
     ]
    },
    {
     "name": "stdout",
     "output_type": "stream",
     "text": [
      "MENOR\n"
     ]
    },
    {
     "name": "stdin",
     "output_type": "stream",
     "text": [
      "Tente adivinhar qual número eu pensei, entre 1 a 20:  20\n"
     ]
    },
    {
     "name": "stdout",
     "output_type": "stream",
     "text": [
      "MAIOR\n"
     ]
    },
    {
     "name": "stdin",
     "output_type": "stream",
     "text": [
      "Tente adivinhar qual número eu pensei, entre 1 a 20:  18\n"
     ]
    },
    {
     "name": "stdout",
     "output_type": "stream",
     "text": [
      "MAIOR\n"
     ]
    },
    {
     "name": "stdin",
     "output_type": "stream",
     "text": [
      "Tente adivinhar qual número eu pensei, entre 1 a 20:  16\n"
     ]
    },
    {
     "name": "stdout",
     "output_type": "stream",
     "text": [
      "MAIOR\n"
     ]
    },
    {
     "name": "stdin",
     "output_type": "stream",
     "text": [
      "Tente adivinhar qual número eu pensei, entre 1 a 20:  15\n"
     ]
    },
    {
     "name": "stdout",
     "output_type": "stream",
     "text": [
      "ACERTOU\n"
     ]
    }
   ],
   "source": [
    "# Você vai fazer um programa para que o usuário tente adivinhar qual número você pensou\n",
    "# O programa deve parar apenas quando ele acertar\n",
    "# você pensou no número 15\n",
    "secret_number = 15\n",
    "\n",
    "# Peça para o usuário digita um número inteiro de 1 a 20 (ambos inclusos).\n",
    "# Guarde esse número na variável number.\n",
    "number = int(input(\"Tente adivinhar qual número eu pensei, entre 1 a 20: \"))\n",
    "\n",
    "# Imprima \"MENOR\" se o número digitado for menor que 15\n",
    "# Imprima \"MAIOR\" se o número for maior que 15\n",
    "# Imprima \"ACERTOU\" se o número for exatamente 15\n",
    "# Use while, if, elif e else\n",
    "# Dica: Não esqueça de pedir novamente um número ao usuário dentro da identação do while\n",
    "## TODO\n",
    "while number != secret_number:\n",
    "    if number < 15:\n",
    "        print(\"MENOR\")\n",
    "    elif number > 15:\n",
    "        print(\"MAIOR\")\n",
    "    number = int(input(\"Tente adivinhar qual número eu pensei, entre 1 a 20: \"))\n",
    "\n",
    "print(\"ACERTOU\")"
   ]
  },
  {
   "cell_type": "markdown",
   "metadata": {},
   "source": [
    "<h3>Repetição (for)</h3>"
   ]
  },
  {
   "cell_type": "markdown",
   "metadata": {},
   "source": [
    "Imprimiremos os números pares de 2 a 10, agora usando for:"
   ]
  },
  {
   "cell_type": "code",
   "execution_count": 77,
   "metadata": {},
   "outputs": [
    {
     "name": "stdout",
     "output_type": "stream",
     "text": [
      "2\n",
      "4\n",
      "6\n",
      "8\n",
      "10\n"
     ]
    }
   ],
   "source": [
    "for number in [2,4,6,8,10]:\n",
    "    print(number)"
   ]
  },
  {
   "cell_type": "markdown",
   "metadata": {},
   "source": [
    "Podemos usar </i>range<i>:"
   ]
  },
  {
   "cell_type": "code",
   "execution_count": 80,
   "metadata": {},
   "outputs": [
    {
     "name": "stdout",
     "output_type": "stream",
     "text": [
      "2\n",
      "4\n",
      "6\n",
      "8\n",
      "10\n"
     ]
    }
   ],
   "source": [
    "for number in range(2,11,2):\n",
    "    print(number)"
   ]
  },
  {
   "cell_type": "markdown",
   "metadata": {},
   "source": [
    "O loop <i>for</i> iterage sobre qualquer tipo de iterável:"
   ]
  },
  {
   "cell_type": "code",
   "execution_count": 83,
   "metadata": {},
   "outputs": [
    {
     "name": "stdout",
     "output_type": "stream",
     "text": [
      "P\n",
      "y\n",
      "t\n",
      "h\n",
      "o\n",
      "n\n"
     ]
    }
   ],
   "source": [
    "for letter in \"Python\":\n",
    "    print(letter)"
   ]
  },
  {
   "cell_type": "code",
   "execution_count": 85,
   "metadata": {},
   "outputs": [
    {
     "name": "stdout",
     "output_type": "stream",
     "text": [
      "Rune Age\n",
      "Runewars\n",
      "Runebound\n"
     ]
    }
   ],
   "source": [
    "boardgames = ['Rune Age', 'Runewars', 'Runebound']\n",
    "for bg in boardgames:\n",
    "    print(bg)"
   ]
  },
  {
   "cell_type": "markdown",
   "metadata": {},
   "source": [
    "Podemos usar <i>for</i> para calcular o fatorial de um número n:"
   ]
  },
  {
   "cell_type": "code",
   "execution_count": null,
   "metadata": {},
   "outputs": [],
   "source": [
    "n = 6\n",
    "result = 1\n",
    "\n",
    "for i in range(1,n+1):\n",
    "    result = result * i\n",
    "\n",
    "print(result)"
   ]
  },
  {
   "cell_type": "markdown",
   "metadata": {},
   "source": [
    "Usando input podemos calcular o fatorial de um número digitado pelo usuário:"
   ]
  },
  {
   "cell_type": "code",
   "execution_count": 110,
   "metadata": {},
   "outputs": [
    {
     "name": "stdin",
     "output_type": "stream",
     "text": [
      "Entre com um número inteiro: 5\n"
     ]
    },
    {
     "name": "stdout",
     "output_type": "stream",
     "text": [
      "120\n"
     ]
    }
   ],
   "source": [
    "n = int(input(\"Entre com um número inteiro:\"))\n",
    "\n",
    "result = 1\n",
    "\n",
    "for i in range(1,n+1):\n",
    "    result = result * i\n",
    "\n",
    "print(result)"
   ]
  },
  {
   "cell_type": "markdown",
   "metadata": {},
   "source": [
    "<h3>Exercício</h3>"
   ]
  },
  {
   "cell_type": "code",
   "execution_count": 114,
   "metadata": {},
   "outputs": [
    {
     "name": "stdin",
     "output_type": "stream",
     "text": [
      "Entre com um número inteiro: 5\n"
     ]
    },
    {
     "name": "stdout",
     "output_type": "stream",
     "text": [
      "O seu fatorial é: 120\n"
     ]
    }
   ],
   "source": [
    "# faça um programa que imprime o fatorial do número inteiro digitado pelo usuário\n",
    "# use while!!!! não vale usar for!!!!\n",
    "# EXTRA: Mudei o nome das variáveis pra ficar mais intuitivo\n",
    "number = int(input(\"Entre com um número inteiro:\" ))\n",
    "\n",
    "factorial = 1\n",
    "counter = 1\n",
    "\n",
    "while counter <= number:\n",
    "    factorial = factorial * counter\n",
    "    counter = counter + 1\n",
    "\n",
    "print(\"O seu fatorial é:\", factorial)"
   ]
  },
  {
   "cell_type": "markdown",
   "metadata": {},
   "source": [
    "<h3>Funções</h3>"
   ]
  },
  {
   "cell_type": "markdown",
   "metadata": {},
   "source": [
    "Vejamos um exemplo de uma função que soma 10 ao número:"
   ]
  },
  {
   "cell_type": "code",
   "execution_count": 116,
   "metadata": {},
   "outputs": [],
   "source": [
    "def soma10(numero):\n",
    "    resultado = numero + 10\n",
    "    return resultado"
   ]
  },
  {
   "cell_type": "markdown",
   "metadata": {},
   "source": [
    "Vejamos agora como chamar a função:"
   ]
  },
  {
   "cell_type": "code",
   "execution_count": 119,
   "metadata": {},
   "outputs": [
    {
     "data": {
      "text/plain": [
       "37"
      ]
     },
     "execution_count": 119,
     "metadata": {},
     "output_type": "execute_result"
    }
   ],
   "source": [
    "soma10(27)"
   ]
  },
  {
   "cell_type": "markdown",
   "metadata": {},
   "source": [
    "A variável <i>numero</i> é a entrada da função <i>soma10</i>.\n",
    "Uma função pode não ter uma entrada:"
   ]
  },
  {
   "cell_type": "code",
   "execution_count": 122,
   "metadata": {},
   "outputs": [],
   "source": [
    "def queAnoEstamos():\n",
    "    return 2019"
   ]
  },
  {
   "cell_type": "markdown",
   "metadata": {},
   "source": [
    "Chamaremos a função queAnoEstamos:"
   ]
  },
  {
   "cell_type": "code",
   "execution_count": 125,
   "metadata": {},
   "outputs": [
    {
     "data": {
      "text/plain": [
       "2019"
      ]
     },
     "execution_count": 125,
     "metadata": {},
     "output_type": "execute_result"
    }
   ],
   "source": [
    "queAnoEstamos()"
   ]
  },
  {
   "cell_type": "markdown",
   "metadata": {},
   "source": [
    "Um função pode ter entradas que não são obrigatórias:"
   ]
  },
  {
   "cell_type": "code",
   "execution_count": 128,
   "metadata": {},
   "outputs": [],
   "source": [
    "def adicionaNaListaDeCompras(item='banana'):\n",
    "    return item + \" adicionado\""
   ]
  },
  {
   "cell_type": "markdown",
   "metadata": {},
   "source": [
    "Chamaremos a função sem passar uma entrada:"
   ]
  },
  {
   "cell_type": "code",
   "execution_count": 131,
   "metadata": {},
   "outputs": [
    {
     "data": {
      "text/plain": [
       "'banana adicionado'"
      ]
     },
     "execution_count": 131,
     "metadata": {},
     "output_type": "execute_result"
    }
   ],
   "source": [
    "adicionaNaListaDeCompras()"
   ]
  },
  {
   "cell_type": "markdown",
   "metadata": {},
   "source": [
    "Chamaremos a função passando uma entrada:"
   ]
  },
  {
   "cell_type": "code",
   "execution_count": 134,
   "metadata": {},
   "outputs": [
    {
     "data": {
      "text/plain": [
       "'abacaxi adicionado'"
      ]
     },
     "execution_count": 134,
     "metadata": {},
     "output_type": "execute_result"
    }
   ],
   "source": [
    "adicionaNaListaDeCompras(\"abacaxi\")"
   ]
  },
  {
   "cell_type": "markdown",
   "metadata": {},
   "source": [
    "Uma função pode aceitar mais de uma entrada:"
   ]
  },
  {
   "cell_type": "code",
   "execution_count": 137,
   "metadata": {},
   "outputs": [],
   "source": [
    "def maximo(x, y):\n",
    "    if x > y:\n",
    "        return x\n",
    "    else:\n",
    "        return y"
   ]
  },
  {
   "cell_type": "markdown",
   "metadata": {},
   "source": [
    "Vejamos como chamar a função <i>maximo</i>:"
   ]
  },
  {
   "cell_type": "code",
   "execution_count": 140,
   "metadata": {},
   "outputs": [
    {
     "data": {
      "text/plain": [
       "27"
      ]
     },
     "execution_count": 140,
     "metadata": {},
     "output_type": "execute_result"
    }
   ],
   "source": [
    "maximo(15,27)"
   ]
  },
  {
   "cell_type": "markdown",
   "metadata": {},
   "source": [
    "Podemos criar funções com vários parâmetros obrigatórios e opcionais:"
   ]
  },
  {
   "cell_type": "code",
   "execution_count": 143,
   "metadata": {},
   "outputs": [],
   "source": [
    "def crazySum(a,b,c,d=1,e=2,f=3):\n",
    "    print( a + b + c + d + 2*e + 3*f )"
   ]
  },
  {
   "cell_type": "markdown",
   "metadata": {},
   "source": [
    "Os parâmetros a, b e c são obrigatório. Se passar só dois parâmetros pra função, aparecerá mensagem de erro."
   ]
  },
  {
   "cell_type": "code",
   "execution_count": 146,
   "metadata": {},
   "outputs": [
    {
     "ename": "TypeError",
     "evalue": "crazySum() missing 1 required positional argument: 'c'",
     "output_type": "error",
     "traceback": [
      "\u001b[1;31m---------------------------------------------------------------------------\u001b[0m",
      "\u001b[1;31mTypeError\u001b[0m                                 Traceback (most recent call last)",
      "Cell \u001b[1;32mIn[146], line 1\u001b[0m\n\u001b[1;32m----> 1\u001b[0m crazySum(\u001b[38;5;241m5\u001b[39m,\u001b[38;5;241m9\u001b[39m)\n",
      "\u001b[1;31mTypeError\u001b[0m: crazySum() missing 1 required positional argument: 'c'"
     ]
    }
   ],
   "source": [
    "crazySum(5,9)"
   ]
  },
  {
   "cell_type": "code",
   "execution_count": 148,
   "metadata": {},
   "outputs": [
    {
     "name": "stdout",
     "output_type": "stream",
     "text": [
      "29\n"
     ]
    }
   ],
   "source": [
    "crazySum(5,9,1)"
   ]
  },
  {
   "cell_type": "markdown",
   "metadata": {},
   "source": [
    "Os opcionais não precisam se passados em ordem, desde que seja referenciado:"
   ]
  },
  {
   "cell_type": "code",
   "execution_count": 151,
   "metadata": {},
   "outputs": [
    {
     "name": "stdout",
     "output_type": "stream",
     "text": [
      "39\n"
     ]
    }
   ],
   "source": [
    "crazySum(5,9,1,e=7)"
   ]
  },
  {
   "cell_type": "markdown",
   "metadata": {},
   "source": [
    "<h3>Exercício</h3>"
   ]
  },
  {
   "cell_type": "code",
   "execution_count": 181,
   "metadata": {},
   "outputs": [
    {
     "data": {
      "text/plain": [
       "120"
      ]
     },
     "execution_count": 181,
     "metadata": {},
     "output_type": "execute_result"
    }
   ],
   "source": [
    "# Faça uma função que retorne o fatorial de um número inteiro\n",
    "# entrada: inteiro -> n\n",
    "# saida: inteiro -> fatorial de n\n",
    "def calcular_fatorial(n):\n",
    "    fatorial = 1\n",
    "    for contador in range(1, n + 1):\n",
    "        fatorial = fatorial * contador\n",
    "    return fatorial\n",
    "\n",
    "# Exemplo\n",
    "calcular_fatorial(5)"
   ]
  },
  {
   "cell_type": "code",
   "execution_count": 185,
   "metadata": {},
   "outputs": [
    {
     "data": {
      "text/plain": [
       "2"
      ]
     },
     "execution_count": 185,
     "metadata": {},
     "output_type": "execute_result"
    }
   ],
   "source": [
    "# Faça uma função que retorne o mdc de dois números inteiros\n",
    "# entrada: inteiros -> m, n\n",
    "# saida: inteiro -> máximo divisor comum de m e n\n",
    "# TODO\n",
    "def calcular_mdc(m, n):\n",
    "    while n != 0:\n",
    "        resto = m % n\n",
    "        m = n\n",
    "        n = resto\n",
    "    return m\n",
    "\n",
    "# Exemplo\n",
    "calcular_mdc(10, 8)"
   ]
  },
  {
   "cell_type": "markdown",
   "metadata": {},
   "source": [
    "<h3>Passando funções para lista</h3>"
   ]
  },
  {
   "cell_type": "markdown",
   "metadata": {},
   "source": [
    "Relembrando da função soma10:"
   ]
  },
  {
   "cell_type": "code",
   "execution_count": 189,
   "metadata": {},
   "outputs": [],
   "source": [
    "def soma10(x):\n",
    "    return x + 10"
   ]
  },
  {
   "cell_type": "markdown",
   "metadata": {},
   "source": [
    "Essa função pode ser passada para uma lista através da built-in function <i>map</i>."
   ]
  },
  {
   "cell_type": "code",
   "execution_count": 192,
   "metadata": {},
   "outputs": [
    {
     "name": "stdout",
     "output_type": "stream",
     "text": [
      "[12, 15, 16, 27]\n"
     ]
    }
   ],
   "source": [
    "lista = [2,5,6,17]\n",
    "lista_mais_10 = list(map(soma10, lista))\n",
    "print(lista_mais_10)"
   ]
  },
  {
   "cell_type": "markdown",
   "metadata": {},
   "source": [
    "<h3>Exercício</h3>"
   ]
  },
  {
   "cell_type": "code",
   "execution_count": 214,
   "metadata": {},
   "outputs": [],
   "source": [
    "# leia o arquivo lista_compras.txt\n",
    "f = open(\"lista_compras.txt\", 'r')"
   ]
  },
  {
   "cell_type": "code",
   "execution_count": 216,
   "metadata": {},
   "outputs": [
    {
     "name": "stdout",
     "output_type": "stream",
     "text": [
      "['abacaxi', 'cenoura', 'pera', 'uva', 'batata', 'cebola', 'melancia', 'couve', 'alface', 'acelga']\n"
     ]
    }
   ],
   "source": [
    "# coloque cada linha num elemento de uma lista chamada itens\n",
    "itens = f.read().splitlines()\n",
    "print(itens)"
   ]
  },
  {
   "cell_type": "code",
   "execution_count": 218,
   "metadata": {},
   "outputs": [],
   "source": [
    "# feche o arquivo\n",
    "f.close()"
   ]
  },
  {
   "cell_type": "code",
   "execution_count": 220,
   "metadata": {},
   "outputs": [],
   "source": [
    "# crie uma função de nome comecaA que verifica se uma palavra word começa com 'a'\n",
    "# entrada: string -> word\n",
    "# saida: boolean -> True: se word começa com 'a', False: se word não começa com a\n",
    "def comecaA(word):\n",
    "    return word.lower().startswith('a')"
   ]
  },
  {
   "cell_type": "code",
   "execution_count": 222,
   "metadata": {},
   "outputs": [],
   "source": [
    "# Usando map, aplique a função comecaA na lista itens\n",
    "# guarde o resultado numa variável chamada resultado\n",
    "resultado = list(map(comecaA, itens))"
   ]
  },
  {
   "cell_type": "code",
   "execution_count": 224,
   "metadata": {},
   "outputs": [
    {
     "data": {
      "text/plain": [
       "list"
      ]
     },
     "execution_count": 224,
     "metadata": {},
     "output_type": "execute_result"
    }
   ],
   "source": [
    "# qual o tipo da variável resultado?\n",
    "type(resultado)"
   ]
  },
  {
   "cell_type": "code",
   "execution_count": 226,
   "metadata": {},
   "outputs": [
    {
     "name": "stdout",
     "output_type": "stream",
     "text": [
      "[True, False, False, False, False, False, False, False, True, True]\n"
     ]
    }
   ],
   "source": [
    "# imprima a variável resultado\n",
    "print(resultado)"
   ]
  },
  {
   "cell_type": "code",
   "execution_count": 228,
   "metadata": {},
   "outputs": [
    {
     "data": {
      "text/plain": [
       "3"
      ]
     },
     "execution_count": 228,
     "metadata": {},
     "output_type": "execute_result"
    }
   ],
   "source": [
    "# conte o número de True's na lista\n",
    "# dica: use o método count\n",
    "resultado.count(True)"
   ]
  },
  {
   "cell_type": "markdown",
   "metadata": {},
   "source": [
    "Meus parabéns, você sabe quantas palavras na lista começam com a letra 'a'!"
   ]
  },
  {
   "cell_type": "markdown",
   "metadata": {},
   "source": [
    "<h3>Lambda</h3>"
   ]
  },
  {
   "cell_type": "markdown",
   "metadata": {},
   "source": [
    "Vamos relembrar da nossa função <i>soma10</i>."
   ]
  },
  {
   "cell_type": "code",
   "execution_count": 235,
   "metadata": {},
   "outputs": [],
   "source": [
    "def soma10(x):\n",
    "    return x + 10"
   ]
  },
  {
   "cell_type": "markdown",
   "metadata": {},
   "source": [
    "Algumas vezes precisaremos usar a função apenas uma vez. Mais ainda, essa função pode ser bem simples, como a soma10. Para esse caso, podemos usar lambda!"
   ]
  },
  {
   "cell_type": "code",
   "execution_count": 238,
   "metadata": {},
   "outputs": [
    {
     "data": {
      "text/plain": [
       "<function __main__.<lambda>(x)>"
      ]
     },
     "execution_count": 238,
     "metadata": {},
     "output_type": "execute_result"
    }
   ],
   "source": [
    "lambda x: x + 10"
   ]
  },
  {
   "cell_type": "markdown",
   "metadata": {},
   "source": [
    "Para usar função lambda a sintaxe é a seguinte:"
   ]
  },
  {
   "cell_type": "code",
   "execution_count": 241,
   "metadata": {},
   "outputs": [
    {
     "data": {
      "text/plain": [
       "47"
      ]
     },
     "execution_count": 241,
     "metadata": {},
     "output_type": "execute_result"
    }
   ],
   "source": [
    "(lambda x: x + 10)(37)"
   ]
  },
  {
   "cell_type": "markdown",
   "metadata": {},
   "source": [
    "É possível usar a função lambda com a build-in function map:"
   ]
  },
  {
   "cell_type": "code",
   "execution_count": 245,
   "metadata": {},
   "outputs": [
    {
     "name": "stdout",
     "output_type": "stream",
     "text": [
      "[11, 12, 13, 14, 15]\n"
     ]
    }
   ],
   "source": [
    "lista = [1, 2, 3, 4, 5]\n",
    "lista_mais_10 = list(map(lambda x: x + 10, lista))\n",
    "print(lista_mais_10)"
   ]
  },
  {
   "cell_type": "markdown",
   "metadata": {},
   "source": [
    "<h3>Exercício</h3>"
   ]
  },
  {
   "cell_type": "code",
   "execution_count": 283,
   "metadata": {},
   "outputs": [],
   "source": [
    "# leia o arquivo numeros.txt\n",
    "f = open(\"numeros.txt\", 'r')"
   ]
  },
  {
   "cell_type": "code",
   "execution_count": 285,
   "metadata": {},
   "outputs": [
    {
     "name": "stdout",
     "output_type": "stream",
     "text": [
      "[25, 36, 10, 48, 59, -15, 26, -26, -15, -1235, -89, 59, 10, 0, 0, 10, -59, 10, 23, 56, -89, -47, 15, 10, 9, 8, 4, 3, -25, 10]\n"
     ]
    }
   ],
   "source": [
    "# coloque todos os números numa lista chamada numbers\n",
    "numbers = list(map(int, f.read().splitlines()))\n",
    "# Teste\n",
    "print(numbers)"
   ]
  },
  {
   "cell_type": "code",
   "execution_count": 287,
   "metadata": {},
   "outputs": [],
   "source": [
    "# feche o arquivo\n",
    "f.close()"
   ]
  },
  {
   "cell_type": "code",
   "execution_count": 289,
   "metadata": {},
   "outputs": [
    {
     "name": "stdout",
     "output_type": "stream",
     "text": [
      "Quantidade de números maiores que 0: 19\n"
     ]
    }
   ],
   "source": [
    "# quantos números na lista numbers são maiores que 0?\n",
    "maiores_que_zero = len(list(filter(lambda x: x > 0, numbers)))\n",
    "print(\"Quantidade de números maiores que 0:\", maiores_que_zero)"
   ]
  },
  {
   "cell_type": "code",
   "execution_count": 291,
   "metadata": {},
   "outputs": [
    {
     "name": "stdout",
     "output_type": "stream",
     "text": [
      "Quantidade de números divisíveis por 3: 9\n"
     ]
    }
   ],
   "source": [
    "# quantos números na lista numbers são divisíveis por 3?\n",
    "divisiveis_por_3 = len(list(filter(lambda x: x % 3 == 0, numbers)))\n",
    "print(\"Quantidade de números divisíveis por 3:\", divisiveis_por_3)"
   ]
  },
  {
   "cell_type": "markdown",
   "metadata": {},
   "source": [
    "Compartilhe as soluções dos dois exercícios acima com a turma. Você usou função, for, if, else, map, lambda? Usou algum raciocínio diferente?"
   ]
  },
  {
   "cell_type": "markdown",
   "metadata": {},
   "source": [
    "<b>Pausa para reflexão:</b> \n",
    "\n",
    "- Aprendemos condicionais: if, elif, else\n",
    "- Aprendemos repetições: while, for\n",
    "- Aprendemos como criar funções \n",
    "- Aprendemos sobre funções lambdas \n",
    "\n",
    "Tome nota dessas informações!"
   ]
  },
  {
   "cell_type": "code",
   "execution_count": null,
   "metadata": {},
   "outputs": [],
   "source": []
  }
 ],
 "metadata": {
  "kernelspec": {
   "display_name": "Python [conda env:base] *",
   "language": "python",
   "name": "conda-base-py"
  },
  "language_info": {
   "codemirror_mode": {
    "name": "ipython",
    "version": 3
   },
   "file_extension": ".py",
   "mimetype": "text/x-python",
   "name": "python",
   "nbconvert_exporter": "python",
   "pygments_lexer": "ipython3",
   "version": "3.12.7"
  }
 },
 "nbformat": 4,
 "nbformat_minor": 4
}
