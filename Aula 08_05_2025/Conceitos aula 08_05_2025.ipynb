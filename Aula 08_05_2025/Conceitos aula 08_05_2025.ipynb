{
 "cells": [
  {
   "cell_type": "code",
   "execution_count": 14,
   "id": "8002d668-baaf-4ab0-bef1-ff24c5b8564f",
   "metadata": {},
   "outputs": [
    {
     "name": "stdout",
     "output_type": "stream",
     "text": [
      "rart\n"
     ]
    }
   ],
   "source": [
    "x = \"rart\"\n",
    "x.replace(\"r\", \"\")\n",
    "print(x)"
   ]
  },
  {
   "cell_type": "code",
   "execution_count": 16,
   "id": "d0aa4e54-1a78-416b-aca7-7f562a638341",
   "metadata": {},
   "outputs": [
    {
     "name": "stdout",
     "output_type": "stream",
     "text": [
      "at\n"
     ]
    }
   ],
   "source": [
    "x = \"rart\"\n",
    "x = x.replace(\"r\", \"\")\n",
    "print(x)"
   ]
  },
  {
   "cell_type": "code",
   "execution_count": 18,
   "id": "b4fdde3b-01f9-4df8-9129-62c6f59e7867",
   "metadata": {},
   "outputs": [],
   "source": [
    "x = [3, 5, 1]\n",
    "x.sort()"
   ]
  },
  {
   "cell_type": "code",
   "execution_count": 22,
   "id": "bbc6f56a-f064-4ebc-8006-6c659900685a",
   "metadata": {},
   "outputs": [
    {
     "name": "stdout",
     "output_type": "stream",
     "text": [
      "[1, 3, 5]\n"
     ]
    }
   ],
   "source": [
    "x = [3, 5, 1]\n",
    "x.sort()\n",
    "print(x)"
   ]
  },
  {
   "cell_type": "code",
   "execution_count": 24,
   "id": "8c5dacb0-4ebf-4578-bdde-636eb688ca41",
   "metadata": {},
   "outputs": [
    {
     "name": "stdout",
     "output_type": "stream",
     "text": [
      "None\n"
     ]
    }
   ],
   "source": [
    "x = [3, 5, 1]\n",
    "x = x.sort()\n",
    "print(x)"
   ]
  },
  {
   "cell_type": "code",
   "execution_count": 26,
   "id": "1bf0e663-53ea-4de0-8646-8401ac302934",
   "metadata": {},
   "outputs": [
    {
     "name": "stdin",
     "output_type": "stream",
     "text": [
      "None 5\n"
     ]
    },
    {
     "name": "stdout",
     "output_type": "stream",
     "text": [
      "None\n"
     ]
    }
   ],
   "source": [
    "# Um caixa registrador precisa retornar o número de notas correto (notas de 1, 2, 5, 10, 20, 50, 100 e 200) para um saque\n",
    "# Faça um programa em Python que receba um valor de saque inteiro e imprime o número de notas respectivas\n",
    "# Exemplo:\n",
    "## Entrada: 516\n",
    "## Saída:\n",
    "### Notas de 1: 1\n",
    "### Notas de 2: 0\n",
    "### Notas de 5: 1\n",
    "### Notas de 10: 1\n",
    "### ...\n",
    "### Notas de 100: 1\n",
    "### Notas de 200: 2\n",
    "\n",
    "input(x)\n",
    "input.help()"
   ]
  },
  {
   "cell_type": "code",
   "execution_count": null,
   "id": "de467a7d-9b95-4b86-bf72-69c8a49bc99b",
   "metadata": {},
   "outputs": [],
   "source": []
  }
 ],
 "metadata": {
  "kernelspec": {
   "display_name": "Python 3 (ipykernel)",
   "language": "python",
   "name": "python3"
  },
  "language_info": {
   "codemirror_mode": {
    "name": "ipython",
    "version": 3
   },
   "file_extension": ".py",
   "mimetype": "text/x-python",
   "name": "python",
   "nbconvert_exporter": "python",
   "pygments_lexer": "ipython3",
   "version": "3.12.4"
  }
 },
 "nbformat": 4,
 "nbformat_minor": 5
}
