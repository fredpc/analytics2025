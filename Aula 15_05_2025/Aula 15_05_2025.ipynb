{
 "cells": [
  {
   "cell_type": "code",
   "execution_count": 9,
   "id": "104644cf-be2a-4230-9a16-860acf533f70",
   "metadata": {},
   "outputs": [
    {
     "name": "stdout",
     "output_type": "stream",
     "text": [
      "Alunos,Notas,Periodos\n",
      "Ana,5,3\n",
      "Ted,7,3\n",
      "Bill,8,4\n",
      "Raul,10,3\n",
      "João,4,4\n",
      "Leo,5,4\n",
      "Rai,7,3\n"
     ]
    }
   ],
   "source": [
    "f = open(\"uftm.txt\", \"r\", encoding=\"utf-8\")\n",
    "print(f.read())\n",
    "f.close()"
   ]
  },
  {
   "cell_type": "code",
   "execution_count": 15,
   "id": "b34b6b55-535f-4e9f-be35-2c92f741690e",
   "metadata": {},
   "outputs": [
    {
     "name": "stdout",
     "output_type": "stream",
     "text": [
      "['Alunos,Notas,Periodos\\n', 'Ana,5,3\\n', 'Ted,7,3\\n', 'Bill,8,4\\n', 'Raul,10,3\\n', 'João,4,4\\n', 'Leo,5,4\\n', 'Rai,7,3']\n"
     ]
    }
   ],
   "source": [
    "f = open(\"uftm.txt\", \"r\", encoding=\"utf-8\")\n",
    "print(f.readlines())\n",
    "f.close()"
   ]
  },
  {
   "cell_type": "code",
   "execution_count": 21,
   "id": "c2f970ba-9a42-4f08-ada1-cededdd42a52",
   "metadata": {},
   "outputs": [
    {
     "name": "stdout",
     "output_type": "stream",
     "text": [
      "['Alunos,Notas,Periodos\\n', 'Ana,5,3\\n', 'Ted,7,3\\n', 'Bill,8,4\\n', 'Raul,10,3\\n', 'João,4,4\\n', 'Leo,5,4\\n', 'Rai,7,3']\n"
     ]
    }
   ],
   "source": [
    "f = open(\"uftm.txt\", \"r\", encoding=\"utf-8\")\n",
    "data_list = f.readlines()\n",
    "print(data_list)\n",
    "f.close()"
   ]
  },
  {
   "cell_type": "code",
   "execution_count": 27,
   "id": "1f3bd352-eef0-4b40-924b-e55b52c19363",
   "metadata": {},
   "outputs": [
    {
     "name": "stdout",
     "output_type": "stream",
     "text": [
      "5.0\n"
     ]
    }
   ],
   "source": [
    "# Faça um programa em Python\n",
    "# Calcule a média das notas dos alunos do quarto período\n",
    "x = 3\n",
    "y = 4\n",
    "z = 8\n",
    "\n",
    "soma = x + y + z\n",
    "media = (soma / 3)\n",
    "\n",
    "print(media)"
   ]
  },
  {
   "cell_type": "code",
   "execution_count": 29,
   "id": "92dac363-746e-44b5-8622-c37a938ad23d",
   "metadata": {},
   "outputs": [
    {
     "name": "stdout",
     "output_type": "stream",
     "text": [
      "5.0\n"
     ]
    }
   ],
   "source": [
    "L = [3, 4, 8, 5]\n",
    "media = sum(L) / len(L)\n",
    "print(media)"
   ]
  },
  {
   "cell_type": "code",
   "execution_count": 31,
   "id": "61c2442c-6e0f-44c7-aca7-25ddf6506732",
   "metadata": {},
   "outputs": [
    {
     "data": {
      "text/plain": [
       "5.0"
      ]
     },
     "execution_count": 31,
     "metadata": {},
     "output_type": "execute_result"
    }
   ],
   "source": [
    "def calcular_media(L):\n",
    "    media = sum (L) / len(L)\n",
    "    return media\n",
    "\n",
    "calcular_media([3,4,8])"
   ]
  },
  {
   "cell_type": "code",
   "execution_count": 85,
   "id": "7616437e-2258-45f7-95d1-094b1e515ae9",
   "metadata": {},
   "outputs": [
    {
     "name": "stdout",
     "output_type": "stream",
     "text": [
      "As notas são: [8, 4, 5]\n",
      "A média é: 5.666666666666667\n"
     ]
    }
   ],
   "source": [
    "# Versão inicial do código\n",
    "\n",
    "# funções auxiliares\n",
    "def calcular_media(L):\n",
    "    media = sum(L) / len(L)\n",
    "    return media\n",
    "\n",
    "def pegar_periodo(row):\n",
    "    return int(row.split(',')[-1].strip())\n",
    "\n",
    "def pegar_nota(row):\n",
    "    return int(row.split(',')[1])\n",
    "\n",
    "# Abrir o arquivo\n",
    "f = open(\"uftm.txt\", \"r\", encoding=\"utf-8\")\n",
    "# Armazenar as linhas do arquivo numa lista e fechar os arquivos\n",
    "rows = f.readlines()\n",
    "# Fechar o arquivo\n",
    "f.close()\n",
    "# Filtrar por período\n",
    "periodo_4 = []\n",
    "for row in rows[1:]:\n",
    "    periodo = pegar_periodo(row)\n",
    "    if periodo == 4:\n",
    "        periodo_4.append(row)\n",
    "\n",
    "# pegar as notas\n",
    "notas = []\n",
    "for row in periodo_4:\n",
    "    nota = pegar_nota(row)\n",
    "    notas.append(nota)\n",
    "\n",
    "# calcular a média\n",
    "media = calcular_media(notas)\n",
    "print(\"As notas são:\", notas)\n",
    "print(\"A média é:\", media)"
   ]
  },
  {
   "cell_type": "code",
   "execution_count": 93,
   "id": "b4865f5c-5799-40cc-9a3d-32cc7ef99db2",
   "metadata": {},
   "outputs": [
    {
     "data": {
      "text/plain": [
       "5.666666666666667"
      ]
     },
     "execution_count": 93,
     "metadata": {},
     "output_type": "execute_result"
    }
   ],
   "source": [
    "# Versão melhorada sem percorrer todo o código novamente\n",
    "\n",
    "# funções auxiliares\n",
    "def calcular_media(L):\n",
    "    media = sum(L) / len(L)\n",
    "    return media\n",
    "\n",
    "def pegar_periodo(row):\n",
    "    return int(row.split(',')[-1].strip())\n",
    "\n",
    "def pegar_nota(row):\n",
    "    return int(row.split(',')[1])\n",
    "\n",
    "def calcula_media(arquivo, periodo_desejado):\n",
    "    # Abrir o arquivo\n",
    "    f = open(arquivo, \"r\", encoding=\"utf-8\")\n",
    "    # Armazenar as linhas do arquivo numa lista e fechar os arquivos\n",
    "    rows = f.readlines()\n",
    "    # Fechar o arquivo\n",
    "    f.close()\n",
    "    # Filtrar por período e pegar as notas\n",
    "    periodo_4 = []\n",
    "    for row in rows[1:]:\n",
    "        periodo = pegar_periodo(row)\n",
    "        if periodo == periodo_desejado:\n",
    "            nota = pegar_nota(row)\n",
    "            notas.append(nota)\n",
    "    \n",
    "    # calcular a média\n",
    "    media = calcular_media(notas)\n",
    "    return media\n",
    "    \n",
    "calcula_media(\"uftm.txt\", \"4\")"
   ]
  },
  {
   "cell_type": "code",
   "execution_count": 95,
   "id": "371c7070-8fa5-409e-8d71-d3f1197ac651",
   "metadata": {},
   "outputs": [
    {
     "data": {
      "text/plain": [
       "5.666666666666667"
      ]
     },
     "execution_count": 95,
     "metadata": {},
     "output_type": "execute_result"
    }
   ],
   "source": [
    "calcula_media(\"uftm.txt\", \"3\")"
   ]
  },
  {
   "cell_type": "code",
   "execution_count": 99,
   "id": "230ba0fd-7cf2-4a09-9356-07932c6bc1a4",
   "metadata": {},
   "outputs": [
    {
     "name": "stdout",
     "output_type": "stream",
     "text": [
      "Média das notas no período 4: 5.67\n"
     ]
    },
    {
     "data": {
      "text/plain": [
       "5.666666666666667"
      ]
     },
     "execution_count": 99,
     "metadata": {},
     "output_type": "execute_result"
    }
   ],
   "source": [
    "# Usando o Grok 3\n",
    "def calcular_media_notas(caminho_arquivo, periodo_desejado):\n",
    "    try:\n",
    "        # Abrir o arquivo\n",
    "        with open(caminho_arquivo, 'r') as arquivo:\n",
    "            # Armazenar as linhas do arquivo em uma lista\n",
    "            linhas = arquivo.readlines()\n",
    "        \n",
    "        # Lista para armazenar as notas do período desejado\n",
    "        notas = []\n",
    "        \n",
    "        # Ignorar o cabeçalho (primeira linha)\n",
    "        for linha in linhas[1:]:  # Pular a primeira linha (cabeçalho)\n",
    "            # Formato: Alunos,Notas,Periodos (ex.: Ana,5,3)\n",
    "            dados = linha.strip().split(',')\n",
    "            if len(dados) == 3:  # Verificar se a linha tem o formato esperado\n",
    "                aluno, nota, periodo = dados\n",
    "                \n",
    "                # Filtrar pelo período desejado\n",
    "                if periodo == periodo_desejado:\n",
    "                    try:\n",
    "                        # Converter nota para inteiro\n",
    "                        nota_int = int(nota)\n",
    "                        notas.append(nota_int)\n",
    "                    except ValueError:\n",
    "                        print(f\"Nota inválida encontrada para {aluno}: {nota}\")\n",
    "        \n",
    "        # Verificar se há notas para calcular a média\n",
    "        if not notas:\n",
    "            print(f\"Nenhuma nota encontrada para o período {periodo_desejado}\")\n",
    "            return None\n",
    "        \n",
    "        # Calcular a média\n",
    "        media = sum(notas) / len(notas)\n",
    "        \n",
    "        # Mostrar a média\n",
    "        print(f\"Média das notas no período {periodo_desejado}: {media:.2f}\")\n",
    "        return media\n",
    "    \n",
    "    except FileNotFoundError:\n",
    "        print(\"Arquivo não encontrado!\")\n",
    "        return None\n",
    "    except Exception as e:\n",
    "        print(f\"Ocorreu um erro: {str(e)}\")\n",
    "        return None\n",
    "\n",
    "# Exemplo de uso\n",
    "calcular_media_notas(\"uftm.txt\", \"4\")"
   ]
  },
  {
   "cell_type": "code",
   "execution_count": 101,
   "id": "c1627ca4-7162-44d1-80ae-017458a127e9",
   "metadata": {},
   "outputs": [
    {
     "name": "stdout",
     "output_type": "stream",
     "text": [
      "Nota máxima encontrada: 10\n"
     ]
    },
    {
     "data": {
      "text/plain": [
       "10"
      ]
     },
     "execution_count": 101,
     "metadata": {},
     "output_type": "execute_result"
    }
   ],
   "source": [
    "# Usando o Grok 3\n",
    "# Calcular nota máxima\n",
    "\n",
    "def calcular_nota_maxima(caminho_arquivo):\n",
    "    try:\n",
    "        # Abrir o arquivo\n",
    "        with open(caminho_arquivo, 'r') as arquivo:\n",
    "            # Armazenar as linhas do arquivo em uma lista\n",
    "            linhas = arquivo.readlines()\n",
    "        \n",
    "        # Lista para armazenar as notas\n",
    "        notas = []\n",
    "        \n",
    "        # Ignorar o cabeçalho (primeira linha)\n",
    "        for linha in linhas[1:]:  # Pular a primeira linha (cabeçalho)\n",
    "            # Formato: Alunos,Notas,Periodos (ex.: Ana,5,3)\n",
    "            dados = linha.strip().split(',')\n",
    "            if len(dados) == 3:  # Verificar se a linha tem o formato esperado\n",
    "                aluno, nota, periodo = dados\n",
    "                try:\n",
    "                    # Converter nota para inteiro\n",
    "                    nota_int = int(nota)\n",
    "                    notas.append(nota_int)\n",
    "                except ValueError:\n",
    "                    print(f\"Nota inválida encontrada para {aluno}: {nota}\")\n",
    "        \n",
    "        # Verificar se há notas\n",
    "        if not notas:\n",
    "            print(\"Nenhuma nota válida encontrada no arquivo\")\n",
    "            return None\n",
    "        \n",
    "        # Encontrar a nota máxima\n",
    "        nota_maxima = max(notas)\n",
    "        \n",
    "        # Mostrar a nota máxima\n",
    "        print(f\"Nota máxima encontrada: {nota_maxima}\")\n",
    "        return nota_maxima\n",
    "    \n",
    "    except FileNotFoundError:\n",
    "        print(\"Arquivo não encontrado!\")\n",
    "        return None\n",
    "    except Exception as e:\n",
    "        print(f\"Ocorreu um erro: {str(e)}\")\n",
    "        return None\n",
    "\n",
    "# Exemplo de uso\n",
    "calcular_nota_maxima(\"uftm.txt\")"
   ]
  },
  {
   "cell_type": "code",
   "execution_count": null,
   "id": "c8f9e440-6000-40bd-8e33-440bd287bce1",
   "metadata": {},
   "outputs": [],
   "source": []
  }
 ],
 "metadata": {
  "kernelspec": {
   "display_name": "Python 3 (ipykernel)",
   "language": "python",
   "name": "python3"
  },
  "language_info": {
   "codemirror_mode": {
    "name": "ipython",
    "version": 3
   },
   "file_extension": ".py",
   "mimetype": "text/x-python",
   "name": "python",
   "nbconvert_exporter": "python",
   "pygments_lexer": "ipython3",
   "version": "3.12.4"
  }
 },
 "nbformat": 4,
 "nbformat_minor": 5
}
