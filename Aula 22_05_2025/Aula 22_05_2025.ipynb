{
 "cells": [
  {
   "cell_type": "code",
   "execution_count": 43,
   "id": "2e73b083-a83d-49b5-9665-60d1ff08cdd1",
   "metadata": {},
   "outputs": [
    {
     "name": "stdout",
     "output_type": "stream",
     "text": [
      "0.0227317\n"
     ]
    }
   ],
   "source": [
    "# Qual a probabilidade da pessoa ficar mais de 35 minutos na fila?\n",
    "## Dados:\n",
    "## - Sample size: 10 milhões\n",
    "## - Média: 25\n",
    "## - Desvio padrão: 5\n",
    "\n",
    "import random\n",
    "import numpy as np\n",
    "import matplotlib.pyplot as plt\n",
    "\n",
    "resultados = []\n",
    "total = 10000000\n",
    "contador = 0\n",
    "\n",
    "for _ in range(total):\n",
    "    m, s = 25, 5\n",
    "    n = random.gauss(m, s)\n",
    "    resultados.append(n)\n",
    "\n",
    "for t in resultados:\n",
    "    if t >= 35:\n",
    "        contador += 1\n",
    "\n",
    "print(contador / total)"
   ]
  },
  {
   "cell_type": "code",
   "execution_count": 57,
   "id": "a0e5d753-ffe4-4872-8efe-545b0cb0f85d",
   "metadata": {},
   "outputs": [
    {
     "name": "stdout",
     "output_type": "stream",
     "text": [
      "(1, 'Luís', 'Gonçalves', 'Embraer - Empresa Brasileira de Aeronáutica S.A.', 'Av. Brigadeiro Faria Lima, 2170', 'São José dos Campos', 'SP', 'Brazil', '12227-000', '+55 (12) 3923-5555', '+55 (12) 3923-5566', 'luisg@embraer.com.br', 3)\n",
      "(2, 'Leonie', 'Köhler', None, 'Theodor-Heuss-Straße 34', 'Stuttgart', None, 'Germany', '70174', '+49 0711 2842222', None, 'leonekohler@surfeu.de', 5)\n",
      "(3, 'François', 'Tremblay', None, '1498 rue Bélanger', 'Montréal', 'QC', 'Canada', 'H2G 1A7', '+1 (514) 721-4711', None, 'ftremblay@gmail.com', 3)\n",
      "(4, 'Bjørn', 'Hansen', None, 'Ullevålsveien 14', 'Oslo', None, 'Norway', '0171', '+47 22 44 22 22', None, 'bjorn.hansen@yahoo.no', 4)\n",
      "(5, 'František', 'Wichterlová', 'JetBrains s.r.o.', 'Klanova 9/506', 'Prague', None, 'Czech Republic', '14700', '+420 2 4172 5555', '+420 2 4172 5555', 'frantisekw@jetbrains.com', 4)\n"
     ]
    }
   ],
   "source": [
    "# Importa a biblioteca SQLite para manipulação do banco de dados\n",
    "import sqlite3\n",
    "\n",
    "# Estabelece conexão com o banco de dados chinook.db\n",
    "conn = sqlite3.connect(\"assets/chinook.db\")\n",
    "\n",
    "# Define a query SQL para selecionar todos os registros da tabela customers\n",
    "query = \"\"\"\n",
    "    SELECT * FROM customers;\n",
    "\"\"\"\n",
    "\n",
    "# Executa a query e armazena todos os resultados\n",
    "result = conn.execute(query).fetchall()\n",
    "\n",
    "# Exibe os cinco primeiros registros retornados pela query\n",
    "for row in result[:5]:\n",
    "    print(row)"
   ]
  },
  {
   "cell_type": "code",
   "execution_count": 59,
   "id": "296acd8b-9e36-4afb-8ef0-75768842a096",
   "metadata": {},
   "outputs": [
    {
     "name": "stdout",
     "output_type": "stream",
     "text": [
      "(1, 'Luís', 'Gonçalves', 'Embraer - Empresa Brasileira de Aeronáutica S.A.', 'Av. Brigadeiro Faria Lima, 2170', 'São José dos Campos', 'SP', 'Brazil', '12227-000', '+55 (12) 3923-5555', '+55 (12) 3923-5566', 'luisg@embraer.com.br', 3)\n",
      "(2, 'Leonie', 'Köhler', None, 'Theodor-Heuss-Straße 34', 'Stuttgart', None, 'Germany', '70174', '+49 0711 2842222', None, 'leonekohler@surfeu.de', 5)\n",
      "(3, 'François', 'Tremblay', None, '1498 rue Bélanger', 'Montréal', 'QC', 'Canada', 'H2G 1A7', '+1 (514) 721-4711', None, 'ftremblay@gmail.com', 3)\n"
     ]
    }
   ],
   "source": [
    "# Importa a biblioteca SQLite para manipulação do banco de dados\n",
    "import sqlite3\n",
    "\n",
    "# Estabelece conexão com o banco de dados chinook.db\n",
    "conn = sqlite3.connect(\"assets/chinook.db\")\n",
    "\n",
    "# Define a query SQL para selecionar os 3 primeiros registros da tabela customers\n",
    "query = \"\"\"\n",
    "    SELECT * FROM customers\n",
    "    LIMIT 3;\n",
    "\"\"\"\n",
    "\n",
    "# Executa a query e armazena todos os resultados\n",
    "result = conn.execute(query).fetchall()\n",
    "\n",
    "# Exibe os cinco primeiros registros retornados pela query\n",
    "for row in result:\n",
    "    print(row)"
   ]
  },
  {
   "cell_type": "code",
   "execution_count": 73,
   "id": "d5c54bb3-0119-4bc7-a16e-0707c606af79",
   "metadata": {},
   "outputs": [
    {
     "name": "stdout",
     "output_type": "stream",
     "text": [
      "(3, 'François', 'Tremblay', None, '1498 rue Bélanger', 'Montréal', 'QC', 'Canada', 'H2G 1A7', '+1 (514) 721-4711', None, 'ftremblay@gmail.com', 3)\n",
      "(14, 'Mark', 'Philips', 'Telus', '8210 111 ST NW', 'Edmonton', 'AB', 'Canada', 'T6G 2C7', '+1 (780) 434-4554', '+1 (780) 434-5565', 'mphilips12@shaw.ca', 5)\n",
      "(15, 'Jennifer', 'Peterson', 'Rogers Canada', '700 W Pender Street', 'Vancouver', 'BC', 'Canada', 'V6C 1G8', '+1 (604) 688-2255', '+1 (604) 688-8756', 'jenniferp@rogers.ca', 3)\n"
     ]
    }
   ],
   "source": [
    "# Importa a biblioteca SQLite para manipulação do banco de dados\n",
    "import sqlite3\n",
    "\n",
    "# Estabelece conexão com o banco de dados chinook.db\n",
    "conn = sqlite3.connect(\"assets/chinook.db\")\n",
    "\n",
    "# Define a query SQL para selecionar os 3 primeiros registros da tabela customers do Canadá\n",
    "query = \"\"\"\n",
    "    SELECT * FROM customers\n",
    "    WHERE country = 'Canada'\n",
    "    LIMIT 3;\n",
    "\"\"\"\n",
    "\n",
    "# Executa a query e armazena todos os resultados\n",
    "R = conn.execute(query).fetchall()\n",
    "\n",
    "# Exibe os cinco primeiros registros retornados pela query\n",
    "for row in R:\n",
    "    print(row)"
   ]
  },
  {
   "cell_type": "code",
   "execution_count": 75,
   "id": "7379778b-2ca4-4088-b9c9-c7c31463a705",
   "metadata": {},
   "outputs": [
    {
     "name": "stdout",
     "output_type": "stream",
     "text": [
      "8\n"
     ]
    }
   ],
   "source": [
    "# Importa a biblioteca SQLite para manipulação do banco de dados\n",
    "import sqlite3\n",
    "\n",
    "# Estabelece conexão com o banco de dados chinook.db\n",
    "conn = sqlite3.connect(\"assets/chinook.db\")\n",
    "\n",
    "# Define a query SQL para selecionar os 3 primeiros registros da tabela customers do Canadá\n",
    "query = \"\"\"\n",
    "    SELECT * FROM customers\n",
    "    WHERE country = 'Canada';\n",
    "\"\"\"\n",
    "\n",
    "# Executa a query e armazena todos os resultados\n",
    "R = conn.execute(query).fetchall()\n",
    "\n",
    "# Exibe quantos clientes são canadenses\n",
    "print(len(R))"
   ]
  },
  {
   "cell_type": "code",
   "execution_count": 79,
   "id": "794e8453-7e84-4772-a400-661e8cf1f733",
   "metadata": {},
   "outputs": [
    {
     "name": "stdout",
     "output_type": "stream",
     "text": [
      "[(8,)]\n"
     ]
    }
   ],
   "source": [
    "# Importa a biblioteca SQLite para manipulação do banco de dados\n",
    "import sqlite3\n",
    "\n",
    "# Estabelece conexão com o banco de dados chinook.db\n",
    "conn = sqlite3.connect(\"assets/chinook.db\")\n",
    "\n",
    "# Define a query SQL para selecionar os 3 primeiros registros da tabela customers do Canadá\n",
    "query = \"\"\"\n",
    "    SELECT COUNT(*)\n",
    "    FROM customers\n",
    "    WHERE country = 'Canada';\n",
    "\"\"\"\n",
    "\n",
    "# Executa a query e armazena todos os resultados\n",
    "R = conn.execute(query).fetchall()\n",
    "\n",
    "# Exibe quantos clientes são canadenses\n",
    "print(R)"
   ]
  },
  {
   "cell_type": "code",
   "execution_count": null,
   "id": "a4c4408b-f6ad-4fec-965a-2edea43c5d93",
   "metadata": {},
   "outputs": [],
   "source": []
  }
 ],
 "metadata": {
  "kernelspec": {
   "display_name": "Python 3 (ipykernel)",
   "language": "python",
   "name": "python3"
  },
  "language_info": {
   "codemirror_mode": {
    "name": "ipython",
    "version": 3
   },
   "file_extension": ".py",
   "mimetype": "text/x-python",
   "name": "python",
   "nbconvert_exporter": "python",
   "pygments_lexer": "ipython3",
   "version": "3.12.4"
  }
 },
 "nbformat": 4,
 "nbformat_minor": 5
}
